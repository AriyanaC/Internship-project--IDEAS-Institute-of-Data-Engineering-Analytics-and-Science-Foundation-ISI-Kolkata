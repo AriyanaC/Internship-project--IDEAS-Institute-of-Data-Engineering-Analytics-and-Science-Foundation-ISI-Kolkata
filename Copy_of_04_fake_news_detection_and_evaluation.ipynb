{
  "nbformat": 4,
  "nbformat_minor": 0,
  "metadata": {
    "colab": {
      "provenance": [],
      "collapsed_sections": [
        "lDJ-pmwxYdkV",
        "RkpC0wRT58k_"
      ],
      "include_colab_link": true
    },
    "kernelspec": {
      "name": "python3",
      "display_name": "Python 3"
    },
    "language_info": {
      "name": "python"
    }
  },
  "cells": [
    {
      "cell_type": "markdown",
      "metadata": {
        "id": "view-in-github",
        "colab_type": "text"
      },
      "source": [
        "<a href=\"https://colab.research.google.com/github/AriyanaC/Internship-project--IDEAS-Institute-of-Data-Engineering-Analytics-and-Science-Foundation-ISI-Kolkata/blob/main/Copy_of_04_fake_news_detection_and_evaluation.ipynb\" target=\"_parent\"><img src=\"https://colab.research.google.com/assets/colab-badge.svg\" alt=\"Open In Colab\"/></a>"
      ]
    },
    {
      "cell_type": "markdown",
      "source": [
        "#**Project Name: Fake News Detection and Evaluation with Confusion Matrix**\n",
        "####**created by: Suprava Das**"
      ],
      "metadata": {
        "id": "1yvQMZ1cTPbm"
      }
    },
    {
      "cell_type": "markdown",
      "source": [
        "# **Problem Statement:**\n"
      ],
      "metadata": {
        "id": "d54yPWrsICZS"
      }
    },
    {
      "cell_type": "markdown",
      "source": [
        "This project addresses the challenge of distinguishing fake news from true news using machine learning techniques. A classification model is trained on textual data, and its effectiveness is evaluated through a confusion matrix to assess accuracy and misclassification patterns."
      ],
      "metadata": {
        "id": "_9cBrQ6oInIy"
      }
    },
    {
      "cell_type": "markdown",
      "source": [
        "# **Data Introduction:**"
      ],
      "metadata": {
        "id": "se8calhAIy8h"
      }
    },
    {
      "cell_type": "markdown",
      "source": [
        "This dataset was compiled from real-world sources; the genuine articles were scraped from Reuters.com (a reputable news website). In contrast, the fake news articles were gathered from various unreliable platforms identified by Politifact (a U.S.-based fact-checking organization) and Wikipedia. The collection covers articles on diverse subjects, though most of them center around politics and world news.\n",
        "\n",
        "The dataset cab also be downloaded from kaggle using the link: www.kaggle.com/datasets/emineyetm/fake-news-detection-datasets"
      ],
      "metadata": {
        "id": "C-cQiBSbI6vB"
      }
    },
    {
      "cell_type": "markdown",
      "source": [
        "# **Import Packages**"
      ],
      "metadata": {
        "id": "Vr0Ag7NJT4gq"
      }
    },
    {
      "cell_type": "markdown",
      "source": [
        "Imported all required libraries and installed any missing packages in Google Colab."
      ],
      "metadata": {
        "id": "CN9d_su1N80T"
      }
    },
    {
      "cell_type": "code",
      "source": [
        "pip install gensim"
      ],
      "metadata": {
        "colab": {
          "base_uri": "https://localhost:8080/"
        },
        "id": "FxGVjzPUll--",
        "outputId": "51edcc82-1e6e-4f2b-e4ae-4ff632fd0467"
      },
      "execution_count": 1,
      "outputs": [
        {
          "output_type": "stream",
          "name": "stdout",
          "text": [
            "Requirement already satisfied: gensim in /usr/local/lib/python3.12/dist-packages (4.3.3)\n",
            "Requirement already satisfied: numpy<2.0,>=1.18.5 in /usr/local/lib/python3.12/dist-packages (from gensim) (1.26.4)\n",
            "Requirement already satisfied: scipy<1.14.0,>=1.7.0 in /usr/local/lib/python3.12/dist-packages (from gensim) (1.13.1)\n",
            "Requirement already satisfied: smart-open>=1.8.1 in /usr/local/lib/python3.12/dist-packages (from gensim) (7.3.1)\n",
            "Requirement already satisfied: wrapt in /usr/local/lib/python3.12/dist-packages (from smart-open>=1.8.1->gensim) (1.17.3)\n"
          ]
        }
      ]
    },
    {
      "cell_type": "code",
      "execution_count": 3,
      "metadata": {
        "colab": {
          "base_uri": "https://localhost:8080/"
        },
        "id": "2YCYCgAyBi4t",
        "outputId": "813bcfe6-e5ff-4583-fe01-9578e4824e0e",
        "collapsed": true
      },
      "outputs": [
        {
          "output_type": "stream",
          "name": "stdout",
          "text": [
            "Mounted at /content/drive\n"
          ]
        }
      ],
      "source": [
        "# import necessary packages\n",
        "import matplotlib.pyplot as plt\n",
        "import pandas as pd\n",
        "import numpy as np\n",
        "import seaborn as sns\n",
        "import re\n",
        "import string\n",
        "from sklearn.model_selection import train_test_split\n",
        "from gensim.test.utils import common_texts\n",
        "from gensim.models import Word2Vec\n",
        "from sklearn.metrics import accuracy_score, precision_score, recall_score, f1_score\n",
        "\n",
        "# mounted the drive\n",
        "from google.colab import drive\n",
        "drive.mount('/content/drive')"
      ]
    },
    {
      "cell_type": "markdown",
      "source": [
        "#**Data Preprocessing**"
      ],
      "metadata": {
        "id": "ba3PZ1ZsTuI0"
      }
    },
    {
      "cell_type": "code",
      "source": [
        "# read the csv file using pandas dataframe\n",
        "fake_news_data = pd.read_csv('/content/fake.csv')\n",
        "true_news_data = pd.read_csv('/content/true.csv')"
      ],
      "metadata": {
        "id": "q6XykTJIC-cR"
      },
      "execution_count": null,
      "outputs": []
    },
    {
      "cell_type": "markdown",
      "source": [
        "**Q1.** View the imported csv file data using Pandas Dataframe."
      ],
      "metadata": {
        "id": "ZzHOTkU0Qg3z"
      }
    },
    {
      "cell_type": "code",
      "source": [
        "display(fake_news_data.head())\n",
        "display(true_news_data.head())"
      ],
      "metadata": {
        "id": "y6XdP_nF1qwx"
      },
      "execution_count": null,
      "outputs": []
    },
    {
      "cell_type": "code",
      "source": [
        "fake_news_data[\"class\"] = 1  # Fake News data → 1\n",
        "true_news_data[\"class\"] = 0  # True News data → 0"
      ],
      "metadata": {
        "id": "j8UPR_6kDjyo"
      },
      "execution_count": null,
      "outputs": []
    },
    {
      "cell_type": "code",
      "source": [
        "# merged true and fake news datasets\n",
        "merged_data = [fake_news_data,true_news_data]\n",
        "df = pd.concat(merged_data,axis=0)"
      ],
      "metadata": {
        "id": "WNaogr4ITRBN"
      },
      "execution_count": null,
      "outputs": []
    },
    {
      "cell_type": "markdown",
      "source": [
        "**Q2.** drop rows from the dataset consisting null values."
      ],
      "metadata": {
        "id": "Pmt1Dt4WScjD"
      }
    },
    {
      "cell_type": "code",
      "source": [
        "df = df.dropna()"
      ],
      "metadata": {
        "id": "i2ltWuRMTSsT"
      },
      "execution_count": null,
      "outputs": []
    },
    {
      "cell_type": "markdown",
      "source": [
        "**Q3.** shuffle the data."
      ],
      "metadata": {
        "id": "lwAYZdVGTjF6"
      }
    },
    {
      "cell_type": "code",
      "source": [
        "df = df.sample(frac=1)"
      ],
      "metadata": {
        "id": "tCahSMvTTVYE"
      },
      "execution_count": null,
      "outputs": []
    },
    {
      "cell_type": "code",
      "source": [
        "#reset index of the merged dataframe\n",
        "df = df.reset_index(drop=True)"
      ],
      "metadata": {
        "id": "ES6BpPEOGtZB"
      },
      "execution_count": null,
      "outputs": []
    },
    {
      "cell_type": "code",
      "source": [
        "# view top 10 rows of processed dataset\n",
        "df.head(10)"
      ],
      "metadata": {
        "colab": {
          "base_uri": "https://localhost:8080/",
          "height": 693
        },
        "id": "b6NvjxfbGSRK",
        "outputId": "a875d42e-253c-46f9-96b9-17b6627cef3d"
      },
      "execution_count": null,
      "outputs": [
        {
          "output_type": "execute_result",
          "data": {
            "text/plain": [
              "                                               title  \\\n",
              "0   Trump Administration IRATE After Judge Halts ...   \n",
              "1  #Berkeley IRONY ALERT! ANARCHISTS LOOT STARBUC...   \n",
              "2  Stirred by same-sex marriage vote, Australia's...   \n",
              "3  CONDOLEEZZA RICE BRILLIANTLY Shuts Down “The V...   \n",
              "4  DEPARTMENT OF JUSTICE Fines Sheriff For Exclud...   \n",
              "5  LOL! SOCIAL MEDIA Users Respond To Hillary’s B...   \n",
              "6  French minister says U.S. energy secretary has...   \n",
              "7  Abbas: Palestinians will go to Security Counci...   \n",
              "8  Four Serbs get suspended sentences for 2008 at...   \n",
              "9  Republican Sandoval withdraws as possible Supr...   \n",
              "\n",
              "                                                text          subject  \\\n",
              "0  Following a Boston judge s refusal to renew th...             News   \n",
              "1   Smashing windows How progressive!Protests aga...         politics   \n",
              "2  SYDNEY (Reuters) - It was supposed to relieve ...        worldnews   \n",
              "3  On more than one occasion, Condoleezza Rice wa...         politics   \n",
              "4  From Wikipedia:The Immigration and Nationality...  Government News   \n",
              "5  Exactly one year ago today on arrogant Hillary...         politics   \n",
              "6  ROME (Reuters) - U.S. energy secretary Rick Pe...     politicsNews   \n",
              "7  CAIRO (Reuters) - Palestinian President Mahmou...        worldnews   \n",
              "8  BELGRADE (Reuters) - Four Serbian men got susp...        worldnews   \n",
              "9  WASHINGTON (Reuters) - Nevada Governor Brian S...     politicsNews   \n",
              "\n",
              "                 date  \n",
              "0    February 4, 2017  \n",
              "1         Feb 2, 2017  \n",
              "2    October 6, 2017   \n",
              "3        May 10, 2017  \n",
              "4        Nov 21, 2016  \n",
              "5        Oct 26, 2017  \n",
              "6     April 10, 2017   \n",
              "7  December 13, 2017   \n",
              "8  November 14, 2017   \n",
              "9  February 25, 2016   "
            ],
            "text/html": [
              "\n",
              "  <div id=\"df-60e764b5-e9ca-418a-a35e-4a3e3e90712f\" class=\"colab-df-container\">\n",
              "    <div>\n",
              "<style scoped>\n",
              "    .dataframe tbody tr th:only-of-type {\n",
              "        vertical-align: middle;\n",
              "    }\n",
              "\n",
              "    .dataframe tbody tr th {\n",
              "        vertical-align: top;\n",
              "    }\n",
              "\n",
              "    .dataframe thead th {\n",
              "        text-align: right;\n",
              "    }\n",
              "</style>\n",
              "<table border=\"1\" class=\"dataframe\">\n",
              "  <thead>\n",
              "    <tr style=\"text-align: right;\">\n",
              "      <th></th>\n",
              "      <th>title</th>\n",
              "      <th>text</th>\n",
              "      <th>subject</th>\n",
              "      <th>date</th>\n",
              "    </tr>\n",
              "  </thead>\n",
              "  <tbody>\n",
              "    <tr>\n",
              "      <th>0</th>\n",
              "      <td>Trump Administration IRATE After Judge Halts ...</td>\n",
              "      <td>Following a Boston judge s refusal to renew th...</td>\n",
              "      <td>News</td>\n",
              "      <td>February 4, 2017</td>\n",
              "    </tr>\n",
              "    <tr>\n",
              "      <th>1</th>\n",
              "      <td>#Berkeley IRONY ALERT! ANARCHISTS LOOT STARBUC...</td>\n",
              "      <td>Smashing windows How progressive!Protests aga...</td>\n",
              "      <td>politics</td>\n",
              "      <td>Feb 2, 2017</td>\n",
              "    </tr>\n",
              "    <tr>\n",
              "      <th>2</th>\n",
              "      <td>Stirred by same-sex marriage vote, Australia's...</td>\n",
              "      <td>SYDNEY (Reuters) - It was supposed to relieve ...</td>\n",
              "      <td>worldnews</td>\n",
              "      <td>October 6, 2017</td>\n",
              "    </tr>\n",
              "    <tr>\n",
              "      <th>3</th>\n",
              "      <td>CONDOLEEZZA RICE BRILLIANTLY Shuts Down “The V...</td>\n",
              "      <td>On more than one occasion, Condoleezza Rice wa...</td>\n",
              "      <td>politics</td>\n",
              "      <td>May 10, 2017</td>\n",
              "    </tr>\n",
              "    <tr>\n",
              "      <th>4</th>\n",
              "      <td>DEPARTMENT OF JUSTICE Fines Sheriff For Exclud...</td>\n",
              "      <td>From Wikipedia:The Immigration and Nationality...</td>\n",
              "      <td>Government News</td>\n",
              "      <td>Nov 21, 2016</td>\n",
              "    </tr>\n",
              "    <tr>\n",
              "      <th>5</th>\n",
              "      <td>LOL! SOCIAL MEDIA Users Respond To Hillary’s B...</td>\n",
              "      <td>Exactly one year ago today on arrogant Hillary...</td>\n",
              "      <td>politics</td>\n",
              "      <td>Oct 26, 2017</td>\n",
              "    </tr>\n",
              "    <tr>\n",
              "      <th>6</th>\n",
              "      <td>French minister says U.S. energy secretary has...</td>\n",
              "      <td>ROME (Reuters) - U.S. energy secretary Rick Pe...</td>\n",
              "      <td>politicsNews</td>\n",
              "      <td>April 10, 2017</td>\n",
              "    </tr>\n",
              "    <tr>\n",
              "      <th>7</th>\n",
              "      <td>Abbas: Palestinians will go to Security Counci...</td>\n",
              "      <td>CAIRO (Reuters) - Palestinian President Mahmou...</td>\n",
              "      <td>worldnews</td>\n",
              "      <td>December 13, 2017</td>\n",
              "    </tr>\n",
              "    <tr>\n",
              "      <th>8</th>\n",
              "      <td>Four Serbs get suspended sentences for 2008 at...</td>\n",
              "      <td>BELGRADE (Reuters) - Four Serbian men got susp...</td>\n",
              "      <td>worldnews</td>\n",
              "      <td>November 14, 2017</td>\n",
              "    </tr>\n",
              "    <tr>\n",
              "      <th>9</th>\n",
              "      <td>Republican Sandoval withdraws as possible Supr...</td>\n",
              "      <td>WASHINGTON (Reuters) - Nevada Governor Brian S...</td>\n",
              "      <td>politicsNews</td>\n",
              "      <td>February 25, 2016</td>\n",
              "    </tr>\n",
              "  </tbody>\n",
              "</table>\n",
              "</div>\n",
              "    <div class=\"colab-df-buttons\">\n",
              "\n",
              "  <div class=\"colab-df-container\">\n",
              "    <button class=\"colab-df-convert\" onclick=\"convertToInteractive('df-60e764b5-e9ca-418a-a35e-4a3e3e90712f')\"\n",
              "            title=\"Convert this dataframe to an interactive table.\"\n",
              "            style=\"display:none;\">\n",
              "\n",
              "  <svg xmlns=\"http://www.w3.org/2000/svg\" height=\"24px\" viewBox=\"0 -960 960 960\">\n",
              "    <path d=\"M120-120v-720h720v720H120Zm60-500h600v-160H180v160Zm220 220h160v-160H400v160Zm0 220h160v-160H400v160ZM180-400h160v-160H180v160Zm440 0h160v-160H620v160ZM180-180h160v-160H180v160Zm440 0h160v-160H620v160Z\"/>\n",
              "  </svg>\n",
              "    </button>\n",
              "\n",
              "  <style>\n",
              "    .colab-df-container {\n",
              "      display:flex;\n",
              "      gap: 12px;\n",
              "    }\n",
              "\n",
              "    .colab-df-convert {\n",
              "      background-color: #E8F0FE;\n",
              "      border: none;\n",
              "      border-radius: 50%;\n",
              "      cursor: pointer;\n",
              "      display: none;\n",
              "      fill: #1967D2;\n",
              "      height: 32px;\n",
              "      padding: 0 0 0 0;\n",
              "      width: 32px;\n",
              "    }\n",
              "\n",
              "    .colab-df-convert:hover {\n",
              "      background-color: #E2EBFA;\n",
              "      box-shadow: 0px 1px 2px rgba(60, 64, 67, 0.3), 0px 1px 3px 1px rgba(60, 64, 67, 0.15);\n",
              "      fill: #174EA6;\n",
              "    }\n",
              "\n",
              "    .colab-df-buttons div {\n",
              "      margin-bottom: 4px;\n",
              "    }\n",
              "\n",
              "    [theme=dark] .colab-df-convert {\n",
              "      background-color: #3B4455;\n",
              "      fill: #D2E3FC;\n",
              "    }\n",
              "\n",
              "    [theme=dark] .colab-df-convert:hover {\n",
              "      background-color: #434B5C;\n",
              "      box-shadow: 0px 1px 3px 1px rgba(0, 0, 0, 0.15);\n",
              "      filter: drop-shadow(0px 1px 2px rgba(0, 0, 0, 0.3));\n",
              "      fill: #FFFFFF;\n",
              "    }\n",
              "  </style>\n",
              "\n",
              "    <script>\n",
              "      const buttonEl =\n",
              "        document.querySelector('#df-60e764b5-e9ca-418a-a35e-4a3e3e90712f button.colab-df-convert');\n",
              "      buttonEl.style.display =\n",
              "        google.colab.kernel.accessAllowed ? 'block' : 'none';\n",
              "\n",
              "      async function convertToInteractive(key) {\n",
              "        const element = document.querySelector('#df-60e764b5-e9ca-418a-a35e-4a3e3e90712f');\n",
              "        const dataTable =\n",
              "          await google.colab.kernel.invokeFunction('convertToInteractive',\n",
              "                                                    [key], {});\n",
              "        if (!dataTable) return;\n",
              "\n",
              "        const docLinkHtml = 'Like what you see? Visit the ' +\n",
              "          '<a target=\"_blank\" href=https://colab.research.google.com/notebooks/data_table.ipynb>data table notebook</a>'\n",
              "          + ' to learn more about interactive tables.';\n",
              "        element.innerHTML = '';\n",
              "        dataTable['output_type'] = 'display_data';\n",
              "        await google.colab.output.renderOutput(dataTable, element);\n",
              "        const docLink = document.createElement('div');\n",
              "        docLink.innerHTML = docLinkHtml;\n",
              "        element.appendChild(docLink);\n",
              "      }\n",
              "    </script>\n",
              "  </div>\n",
              "\n",
              "\n",
              "    <div id=\"df-429057ea-c102-4fc3-afd9-e88aec1750d3\">\n",
              "      <button class=\"colab-df-quickchart\" onclick=\"quickchart('df-429057ea-c102-4fc3-afd9-e88aec1750d3')\"\n",
              "                title=\"Suggest charts\"\n",
              "                style=\"display:none;\">\n",
              "\n",
              "<svg xmlns=\"http://www.w3.org/2000/svg\" height=\"24px\"viewBox=\"0 0 24 24\"\n",
              "     width=\"24px\">\n",
              "    <g>\n",
              "        <path d=\"M19 3H5c-1.1 0-2 .9-2 2v14c0 1.1.9 2 2 2h14c1.1 0 2-.9 2-2V5c0-1.1-.9-2-2-2zM9 17H7v-7h2v7zm4 0h-2V7h2v10zm4 0h-2v-4h2v4z\"/>\n",
              "    </g>\n",
              "</svg>\n",
              "      </button>\n",
              "\n",
              "<style>\n",
              "  .colab-df-quickchart {\n",
              "      --bg-color: #E8F0FE;\n",
              "      --fill-color: #1967D2;\n",
              "      --hover-bg-color: #E2EBFA;\n",
              "      --hover-fill-color: #174EA6;\n",
              "      --disabled-fill-color: #AAA;\n",
              "      --disabled-bg-color: #DDD;\n",
              "  }\n",
              "\n",
              "  [theme=dark] .colab-df-quickchart {\n",
              "      --bg-color: #3B4455;\n",
              "      --fill-color: #D2E3FC;\n",
              "      --hover-bg-color: #434B5C;\n",
              "      --hover-fill-color: #FFFFFF;\n",
              "      --disabled-bg-color: #3B4455;\n",
              "      --disabled-fill-color: #666;\n",
              "  }\n",
              "\n",
              "  .colab-df-quickchart {\n",
              "    background-color: var(--bg-color);\n",
              "    border: none;\n",
              "    border-radius: 50%;\n",
              "    cursor: pointer;\n",
              "    display: none;\n",
              "    fill: var(--fill-color);\n",
              "    height: 32px;\n",
              "    padding: 0;\n",
              "    width: 32px;\n",
              "  }\n",
              "\n",
              "  .colab-df-quickchart:hover {\n",
              "    background-color: var(--hover-bg-color);\n",
              "    box-shadow: 0 1px 2px rgba(60, 64, 67, 0.3), 0 1px 3px 1px rgba(60, 64, 67, 0.15);\n",
              "    fill: var(--button-hover-fill-color);\n",
              "  }\n",
              "\n",
              "  .colab-df-quickchart-complete:disabled,\n",
              "  .colab-df-quickchart-complete:disabled:hover {\n",
              "    background-color: var(--disabled-bg-color);\n",
              "    fill: var(--disabled-fill-color);\n",
              "    box-shadow: none;\n",
              "  }\n",
              "\n",
              "  .colab-df-spinner {\n",
              "    border: 2px solid var(--fill-color);\n",
              "    border-color: transparent;\n",
              "    border-bottom-color: var(--fill-color);\n",
              "    animation:\n",
              "      spin 1s steps(1) infinite;\n",
              "  }\n",
              "\n",
              "  @keyframes spin {\n",
              "    0% {\n",
              "      border-color: transparent;\n",
              "      border-bottom-color: var(--fill-color);\n",
              "      border-left-color: var(--fill-color);\n",
              "    }\n",
              "    20% {\n",
              "      border-color: transparent;\n",
              "      border-left-color: var(--fill-color);\n",
              "      border-top-color: var(--fill-color);\n",
              "    }\n",
              "    30% {\n",
              "      border-color: transparent;\n",
              "      border-left-color: var(--fill-color);\n",
              "      border-top-color: var(--fill-color);\n",
              "      border-right-color: var(--fill-color);\n",
              "    }\n",
              "    40% {\n",
              "      border-color: transparent;\n",
              "      border-right-color: var(--fill-color);\n",
              "      border-top-color: var(--fill-color);\n",
              "    }\n",
              "    60% {\n",
              "      border-color: transparent;\n",
              "      border-right-color: var(--fill-color);\n",
              "    }\n",
              "    80% {\n",
              "      border-color: transparent;\n",
              "      border-right-color: var(--fill-color);\n",
              "      border-bottom-color: var(--fill-color);\n",
              "    }\n",
              "    90% {\n",
              "      border-color: transparent;\n",
              "      border-bottom-color: var(--fill-color);\n",
              "    }\n",
              "  }\n",
              "</style>\n",
              "\n",
              "      <script>\n",
              "        async function quickchart(key) {\n",
              "          const quickchartButtonEl =\n",
              "            document.querySelector('#' + key + ' button');\n",
              "          quickchartButtonEl.disabled = true;  // To prevent multiple clicks.\n",
              "          quickchartButtonEl.classList.add('colab-df-spinner');\n",
              "          try {\n",
              "            const charts = await google.colab.kernel.invokeFunction(\n",
              "                'suggestCharts', [key], {});\n",
              "          } catch (error) {\n",
              "            console.error('Error during call to suggestCharts:', error);\n",
              "          }\n",
              "          quickchartButtonEl.classList.remove('colab-df-spinner');\n",
              "          quickchartButtonEl.classList.add('colab-df-quickchart-complete');\n",
              "        }\n",
              "        (() => {\n",
              "          let quickchartButtonEl =\n",
              "            document.querySelector('#df-429057ea-c102-4fc3-afd9-e88aec1750d3 button');\n",
              "          quickchartButtonEl.style.display =\n",
              "            google.colab.kernel.accessAllowed ? 'block' : 'none';\n",
              "        })();\n",
              "      </script>\n",
              "    </div>\n",
              "\n",
              "    </div>\n",
              "  </div>\n"
            ],
            "application/vnd.google.colaboratory.intrinsic+json": {
              "type": "dataframe",
              "variable_name": "df",
              "summary": "{\n  \"name\": \"df\",\n  \"rows\": 44898,\n  \"fields\": [\n    {\n      \"column\": \"title\",\n      \"properties\": {\n        \"dtype\": \"string\",\n        \"num_unique_values\": 38729,\n        \"samples\": [\n          \" Trump Trolls Try KILLING Megyn Kelly\\u2019s Book And Amazon Isn\\u2019t Having Any Of Their Sh*t\",\n          \"MUSLIM REFUGEES BUSTED Going Back to the Countries They Claim to Have Fled for VACATION [Video]\",\n          \"U.S. appeals court upholds gag orders on FBI data surveillance\"\n        ],\n        \"semantic_type\": \"\",\n        \"description\": \"\"\n      }\n    },\n    {\n      \"column\": \"text\",\n      \"properties\": {\n        \"dtype\": \"string\",\n        \"num_unique_values\": 38646,\n        \"samples\": [\n          \"MOSCOW (Reuters) - A spokesman for Russia s Defence Ministry said on Wednesday that a series of attacks launched by Islamic State in Syria on government forces had come from an area near the border with Jordan where a U.S. military mission was located. The spokesman, Major-General Igor Konashenkov, said in a statement the attackers had the precise coordinates of the Syrian government forces, which could only have been obtained through aerial reconnaissance.  If the United States views such operations as unforeseen  coincidences,  then the Russian air force in Syria is prepared to begin the complete destruction of all such  coincidences  in the zones under their control,  he said.   The main obstacle to completing the defeat of Islamic State in Syria is not the military capability of the terrorists but the support for them, and flirtation with them, by the United States,  Konashenkov said. \",\n          \"SHANGHAI (Reuters) - A former vice-chairman of China s securities regulator, Yao Gang, is being investigated for taking bribes, the official China Daily said, citing the prosecutors  office. Yao was one of the most senior figures arrested in a  crackdown on suspected stock manipulation in late 2015, after the mid-year collapse of the Chinese stock market following a long bull run. Yao was subject to  coercive measures,  which can range from summons and surveillance to detention and arrest, among other actions, the Supreme People s Procuratorate said, without specifying which he faced, the newspaper said on Thursday. In July, China s graft watchdog said Yao would be prosecuted for offences that included taking bribes and  destroying the order of capital markets . Yao, 55, was the general manager of Guotai Junan Securities in 1999 before taking a position with the China Securities Regulatory Commission in 2002, the paper said. At the CSRC, he was known as the  King of IPOs , overseeing initial public offerings on the Chinese mainland for 13 years, it added.   \",\n          \"So the moderator of the Democratic debate met with the campaigns of the candidates but didn t give away any questions? Really? And we re supposed to believe this? A  pre-interview  took place to discuss the issues  at play in the race . Isn t that giving the questions away?I d call that a strategy session because we shouldn t forget that Ben Rhodes and David Rhodes are brothers This Saturday s second Democratic debate will be a much smaller affair than the first. With only three candidates on stage, CBS News plans to delve deep into the issues with each candidate and have taken advantage of the smaller pool by doing some intense research. Moderator John Dickerson and his team met with each of the campaigns for more than an hour to discuss the major issues at play in the race, sources on the campaigns said, describing the pre-interview as  informational in nature.  Dickerson is not giving candidates previews of his questions for the debate. Prior to the CNN debate, the campaigns said moderator Anderson Cooper did not reach out directly to them before the candidates took the stage.  Dickerson and his team were very interested in getting to better know the senator s stand on a wide spectrum of issues, what he would do about income inequality in this country,  said Bernie Sanders  spokesman Michael Briggs. He said they discussed issues where there are real differences between the candidates   including gun control, the death penalty and raising taxes on the middle class.  John Dickerson s a smart, impressive guy who cares a lot about the issues,  Briggs said.  I m sure we ll see a smart, issues-oriented debate. Read more: politico\"\n        ],\n        \"semantic_type\": \"\",\n        \"description\": \"\"\n      }\n    },\n    {\n      \"column\": \"subject\",\n      \"properties\": {\n        \"dtype\": \"category\",\n        \"num_unique_values\": 8,\n        \"samples\": [\n          \"politics\",\n          \"left-news\",\n          \"News\"\n        ],\n        \"semantic_type\": \"\",\n        \"description\": \"\"\n      }\n    },\n    {\n      \"column\": \"date\",\n      \"properties\": {\n        \"dtype\": \"category\",\n        \"num_unique_values\": 2397,\n        \"samples\": [\n          \"January 27, 2017 \",\n          \"October 8, 2017 \",\n          \"February 1, 2016\"\n        ],\n        \"semantic_type\": \"\",\n        \"description\": \"\"\n      }\n    }\n  ]\n}"
            }
          },
          "metadata": {},
          "execution_count": 12
        }
      ]
    },
    {
      "cell_type": "markdown",
      "source": [
        "**Q4.** view the text content of a random data point."
      ],
      "metadata": {
        "id": "lnnRk7xMUJUb"
      }
    },
    {
      "cell_type": "code",
      "source": [
        "random_row = df.sample(n=1)\n",
        "random_text_content = random_row.iloc[0][\"text\"]\n",
        "print(random_text_content)"
      ],
      "metadata": {
        "id": "QnVr83t9Tqco",
        "colab": {
          "base_uri": "https://localhost:8080/"
        },
        "outputId": "f094efae-cdef-4c56-b872-417fbf6ee4b6"
      },
      "execution_count": null,
      "outputs": [
        {
          "output_type": "stream",
          "name": "stdout",
          "text": [
            "(Reuters) - A sales consultant told Brazilian prosecutors he believes planemaker Embraer SA’s top officials, including Chief Executive Frederico Curado, knew of illicit payments related to the sale of military aircraft to the Dominican Republic, the Wall Street Journal reported. Embraer is under investigation by the U.S. and Brazilian authorities for allegedly bribing officials in the Dominican Republic to secure deals for commercial and defense aircraft. According to official summaries of sales consultant Elio Moti Sonnenfeld’s statements, he received a payment of $3.4 million from Embraer for work he did not perform, and which he passed along as a bribe to a public official in the Dominican Republic, the newspaper reported on Wednesday.  The Journal, citing a person close to the case, reported on Thursday that a Brazilian judge had dismissed criminal charges against Sonnenfeld in February.  The alleged bribery helped Embraer secure a $92 million contract in 2008 to sell eight turboprop attack support aircraft to the Carribean country. An Embraer official, declining to comment directly on Sonnenfeld’s reported statements, said Wednesday’s Journal story was based on allegations that were apparently leaked from confidential testimony in a legal case in Brazil, the details of which were not available to the company. The official noted that Embraer had stated publicly that it was conducting an internal investigation and cooperating with the U.S. Department of Justice and the U.S. Securities and Exchange Commission in relation to possible violations of the U.S. Foreign Corrupt Practices Act (FCPA). Prosecutors in Brazil filed a criminal complaint in 2014 against Sonnenfeld and eight former Embraer vice presidents, directors and managers, charging them with corruption and money laundering. CEO Curado has not been named as a defendant and has not been accused of any wrongdoing. \n"
          ]
        }
      ]
    },
    {
      "cell_type": "markdown",
      "source": [
        "**Data Visualization**"
      ],
      "metadata": {
        "id": "ncmn-qORRCxd"
      }
    },
    {
      "cell_type": "code",
      "source": [
        "#create a data visualzation of bar/column/line chart of top 5 subjects ->\n",
        "top_5_subjects = (df['subject'].value_counts()).nlargest(5)\n",
        "top_5_subjects.plot(kind='bar', edgecolor='black', stacked=True)\n",
        "plt.xlabel('Subject Name')\n",
        "plt.ylabel('Number of News')"
      ],
      "metadata": {
        "colab": {
          "base_uri": "https://localhost:8080/",
          "height": 539
        },
        "id": "Ji6diJ8MIzdm",
        "outputId": "4eb0986f-e828-45f7-b3fc-dd24e0f15522"
      },
      "execution_count": null,
      "outputs": [
        {
          "output_type": "execute_result",
          "data": {
            "text/plain": [
              "Text(0, 0.5, 'Number of News')"
            ]
          },
          "metadata": {},
          "execution_count": 14
        },
        {
          "output_type": "display_data",
          "data": {
            "text/plain": [
              "<Figure size 640x480 with 1 Axes>"
            ],
            "image/png": "[encoded data removed]"
          },
          "metadata": {}
        }
      ]
    },
    {
      "cell_type": "markdown",
      "source": [
        "**Q5.** Create a pie chart to find the percentage of news on different subject."
      ],
      "metadata": {
        "id": "VKGG5NPoVeMc"
      }
    },
    {
      "cell_type": "code",
      "source": [
        "plt.figure(figsize=(10,7))\n",
        "df['subject'].value_counts().plot(kind='pie', autopct='%1.1f%%', startangle=90)\n",
        "plt.title('Percentage of News by Subject')\n",
        "plt.ylabel('')\n",
        "plt.show()"
      ],
      "metadata": {
        "id": "Jpm3uqL3V6r8",
        "colab": {
          "base_uri": "https://localhost:8080/",
          "height": 598
        },
        "outputId": "9240d108-de37-4ef1-9620-f45cd4ceb8b3"
      },
      "execution_count": null,
      "outputs": [
        {
          "output_type": "display_data",
          "data": {
            "text/plain": [
              "<Figure size 1000x700 with 1 Axes>"
            ],
            "image/png": "[encoded data removed]"
          },
          "metadata": {}
        }
      ]
    },
    {
      "cell_type": "markdown",
      "source": [
        "**Text Processing**"
      ],
      "metadata": {
        "id": "XpYByiMRzkqh"
      }
    },
    {
      "cell_type": "code",
      "source": [
        "# function to remove space,special charecter and convert all text into lower case\n",
        "def wordopt(text):\n",
        "  text = text.lower()\n",
        "  text= re.sub(r'https://\\S+|www\\.\\S+','',text) # remove https:// or www.com\n",
        "  text = re.sub(r'[^\\w]',' ', text) #remove special charecter\n",
        "  text= re.sub(r'\\s+',' ',text) #remove multiple space\n",
        "\n",
        "  return text"
      ],
      "metadata": {
        "id": "VTzJE7XygtnG"
      },
      "execution_count": null,
      "outputs": []
    },
    {
      "cell_type": "code",
      "source": [
        "# drop unnecessary columns for classification purpose\n",
        "df1= df.drop(['title','subject','date'],axis=1)"
      ],
      "metadata": {
        "id": "CxBAn_R2gYtZ"
      },
      "execution_count": null,
      "outputs": []
    },
    {
      "cell_type": "code",
      "source": [
        "# apply wordopt method to the whole dataset and view the text content of a random data point\n",
        "df1['text']=df1['text'].apply(wordopt)\n",
        "df1['text'][100]"
      ],
      "metadata": {
        "colab": {
          "base_uri": "https://localhost:8080/",
          "height": 70
        },
        "id": "tg5lNxJtGksY",
        "outputId": "43ff0e0d-7c4c-43ab-e0c7-8d44c447ab0c"
      },
      "execution_count": null,
      "outputs": [
        {
          "output_type": "execute_result",
          "data": {
            "text/plain": [
              "' reuters a colorado judge rejected a request to extend voting time in the state past 7 p m despite an earlier computer glitch according to a tweet from the mayor of denver s office of emergency management '"
            ],
            "application/vnd.google.colaboratory.intrinsic+json": {
              "type": "string"
            }
          },
          "metadata": {},
          "execution_count": 18
        }
      ]
    },
    {
      "cell_type": "markdown",
      "source": [
        "# **Building Model**"
      ],
      "metadata": {
        "id": "7zOv17e_5vnY"
      }
    },
    {
      "cell_type": "code",
      "source": [
        "# Separate independent and target columns from the dataset and stored them in x & y variables\n",
        "x= df1['text']\n",
        "y= df1['text']"
      ],
      "metadata": {
        "id": "QndHYbDu50RF"
      },
      "execution_count": null,
      "outputs": []
    },
    {
      "cell_type": "markdown",
      "source": [
        "**Q6.** Split the dataset into training and testing sets with 25% test size and store them in x_train, x_test, y_train, and y_test."
      ],
      "metadata": {
        "id": "vdbNrbifWSK1"
      }
    },
    {
      "cell_type": "code",
      "source": [
        "x_train, x_test, y_train, y_test = train_test_split(x, y, test_size=0.25, random_state=42)"
      ],
      "metadata": {
        "id": "rKDEsZHE6Ab2"
      },
      "execution_count": null,
      "outputs": []
    },
    {
      "cell_type": "markdown",
      "source": [
        "## **Word Embedding ( Word2Vec )**"
      ],
      "metadata": {
        "id": "3wRqdiRIkqTe"
      }
    },
    {
      "cell_type": "code",
      "source": [
        "# import bbc_news data using url link in json format for training Word2Vec word embedding model\n",
        "news = pd.read_json('https://query.data.world/s/7c6p2lxb3wjibfsfbp4mwy7p7y4y2d?dws=00000')\n",
        "news_seg = news['content']\n",
        "print(\"Size of Word Dictonary for training Word2Vec: \",news_seg.shape[0])\n",
        "news_seg.head(2)"
      ],
      "metadata": {
        "colab": {
          "base_uri": "https://localhost:8080/",
          "height": 164
        },
        "id": "SdpOD3v-mLmT",
        "outputId": "03968e34-264e-4ddb-eea4-cff357c2c211"
      },
      "execution_count": null,
      "outputs": [
        {
          "output_type": "stream",
          "name": "stdout",
          "text": [
            "Size of Word Dictonary for training Word2Vec:  15825\n"
          ]
        },
        {
          "output_type": "execute_result",
          "data": {
            "text/plain": [
              "0    The heroin substitute methadone can be used as...\n",
              "1    The eldest son of North Korean leader Kim Jong...\n",
              "Name: content, dtype: object"
            ],
            "text/html": [
              "<div>\n",
              "<style scoped>\n",
              "    .dataframe tbody tr th:only-of-type {\n",
              "        vertical-align: middle;\n",
              "    }\n",
              "\n",
              "    .dataframe tbody tr th {\n",
              "        vertical-align: top;\n",
              "    }\n",
              "\n",
              "    .dataframe thead th {\n",
              "        text-align: right;\n",
              "    }\n",
              "</style>\n",
              "<table border=\"1\" class=\"dataframe\">\n",
              "  <thead>\n",
              "    <tr style=\"text-align: right;\">\n",
              "      <th></th>\n",
              "      <th>content</th>\n",
              "    </tr>\n",
              "  </thead>\n",
              "  <tbody>\n",
              "    <tr>\n",
              "      <th>0</th>\n",
              "      <td>The heroin substitute methadone can be used as...</td>\n",
              "    </tr>\n",
              "    <tr>\n",
              "      <th>1</th>\n",
              "      <td>The eldest son of North Korean leader Kim Jong...</td>\n",
              "    </tr>\n",
              "  </tbody>\n",
              "</table>\n",
              "</div><br><label><b>dtype:</b> object</label>"
            ]
          },
          "metadata": {},
          "execution_count": 30
        }
      ]
    },
    {
      "cell_type": "code",
      "source": [
        "# apply wordopt function for text processing\n",
        "news_seg=news_seg.apply(wordopt)\n",
        "sentences = [sentence.split() for sentence in news_seg ]\n",
        "w2v_model = Word2Vec(sentences,  window=5, min_count=5, workers=4)"
      ],
      "metadata": {
        "id": "AsJm3KoQQqVg"
      },
      "execution_count": null,
      "outputs": []
    },
    {
      "cell_type": "code",
      "source": [
        "# function to convert a sentence into vector form\n",
        "def vectorize(sentence):\n",
        "    words = sentence.split()\n",
        "    words_vecs = [w2v_model.wv[word] for word in words if word in w2v_model.wv]\n",
        "    if len(words_vecs) == 0:\n",
        "        return np.zeros(100)\n",
        "    words_vecs = np.array(words_vecs)\n",
        "    return words_vecs.mean(axis=0)"
      ],
      "metadata": {
        "id": "lArJrYw97x1y"
      },
      "execution_count": null,
      "outputs": []
    },
    {
      "cell_type": "code",
      "source": [
        "# convert train and test dataset into vector form\n",
        "xv_train = np.array([vectorize(sentence) for sentence in x_train])\n",
        "xv_test = np.array([vectorize(sentence) for sentence in x_test])"
      ],
      "metadata": {
        "id": "NWzl8y8uldSE"
      },
      "execution_count": null,
      "outputs": []
    },
    {
      "cell_type": "markdown",
      "source": [
        "##**Logistic Regression**"
      ],
      "metadata": {
        "id": "VzFibvAbYktA"
      }
    },
    {
      "cell_type": "code",
      "source": [
        "# Trains a Logistic Regression model using vector formed trained data ->\n",
        "from sklearn.linear_model import LogisticRegression\n",
        "logistic_model = LogisticRegression()\n",
        "logistic_model.fit(xv_train,y_train)"
      ],
      "metadata": {
        "id": "DEuVqu0P7KnJ"
      },
      "execution_count": null,
      "outputs": []
    },
    {
      "cell_type": "code",
      "source": [
        "# detect the class(fake or true) on test data and evaluates its accuracy on test set\n",
        "y_pred = logistic_model.predict(xv_test)\n",
        "print(\"Prediction on test data: \",y_pred)\n",
        "print(\"Accuracy Score on Test Data: \",logistic_model.score(xv_test,y_test))"
      ],
      "metadata": {
        "id": "uq6D891a7oTo"
      },
      "execution_count": null,
      "outputs": []
    },
    {
      "cell_type": "markdown",
      "source": [
        "####**Accuracy Checking**"
      ],
      "metadata": {
        "id": "yJdKrQTFnK1Z"
      }
    },
    {
      "cell_type": "code",
      "source": [
        "# Check Precision, Recall, F1 Score of the logistic model ->\n",
        "print('Accuracy:', accuracy_score(y_test, y_pred))\n",
        "print('Precision:', precision_score(y_test, y_pred))\n",
        "print('Recall:', recall_score(y_test, y_pred))\n",
        "print('F1 score:', f1_score(y_test, y_pred))"
      ],
      "metadata": {
        "id": "0VA7sBRdnR-k"
      },
      "execution_count": null,
      "outputs": []
    },
    {
      "cell_type": "code",
      "source": [
        "# Check overall accuracy using confusion matrix\n",
        "from sklearn.metrics import confusion_matrix,ConfusionMatrixDisplay\n",
        "cm= confusion_matrix(y_test,y_pred)\n",
        "cm_display = ConfusionMatrixDisplay(confusion_matrix = cm)\n",
        "cm_display.plot()\n",
        "plt.show()"
      ],
      "metadata": {
        "id": "AoxgjMi7Y9HD"
      },
      "execution_count": null,
      "outputs": []
    },
    {
      "cell_type": "markdown",
      "source": [
        "##**Random Forest Classifier**"
      ],
      "metadata": {
        "id": "4mLirHL-J4kT"
      }
    },
    {
      "cell_type": "markdown",
      "source": [
        "####**Model Building and Prediction**"
      ],
      "metadata": {
        "id": "XvJgJX0yYG0M"
      }
    },
    {
      "cell_type": "markdown",
      "source": [
        "**Q7.** Use Random Forest Classifer for this classfication purpose and predict the outcomes for test data."
      ],
      "metadata": {
        "id": "OpT7bxd9XfYM"
      }
    },
    {
      "cell_type": "code",
      "source": [
        "from sklearn.ensemble import RandomForestClassifier\n",
        "#Initialise and train the Random Forest Classifier\n",
        "rf_model = RandomForestClassifier(n_estimators=100, random_state=42)\n",
        "rf_model.fit(xv_train,y_train)\n",
        "\n",
        "#Predict on the test data\n",
        "y_pred = rf_model.predict(xv_test)\n",
        "print(\"Prediction on test data using Random Forest:\", y_pred_rf)"
      ],
      "metadata": {
        "id": "pBkqgPskKf6f",
        "colab": {
          "base_uri": "https://localhost:8080/",
          "height": 530
        },
        "outputId": "b0e7b38e-b86a-45c0-eca7-18557095588f"
      },
      "execution_count": 2,
      "outputs": [
        {
          "output_type": "error",
          "ename": "ModuleNotFoundError",
          "evalue": "No module named 'numpy.rec'",
          "traceback": [
            "\u001b[0;31m---------------------------------------------------------------------------\u001b[0m",
            "\u001b[0;31mModuleNotFoundError\u001b[0m                       Traceback (most recent call last)",
            "\u001b[0;32m/tmp/ipython-input-1114629263.py\u001b[0m in \u001b[0;36m<cell line: 0>\u001b[0;34m()\u001b[0m\n\u001b[0;32m----> 1\u001b[0;31m \u001b[0;32mfrom\u001b[0m \u001b[0msklearn\u001b[0m\u001b[0;34m.\u001b[0m\u001b[0mensemble\u001b[0m \u001b[0;32mimport\u001b[0m \u001b[0mRandomForestClassifier\u001b[0m\u001b[0;34m\u001b[0m\u001b[0;34m\u001b[0m\u001b[0m\n\u001b[0m\u001b[1;32m      2\u001b[0m \u001b[0;31m#Initialise and train the Random Forest Classifier\u001b[0m\u001b[0;34m\u001b[0m\u001b[0;34m\u001b[0m\u001b[0m\n\u001b[1;32m      3\u001b[0m \u001b[0mrf_model\u001b[0m \u001b[0;34m=\u001b[0m \u001b[0mRandomForestClassifier\u001b[0m\u001b[0;34m(\u001b[0m\u001b[0mn_estimators\u001b[0m\u001b[0;34m=\u001b[0m\u001b[0;36m100\u001b[0m\u001b[0;34m,\u001b[0m \u001b[0mrandom_state\u001b[0m\u001b[0;34m=\u001b[0m\u001b[0;36m42\u001b[0m\u001b[0;34m)\u001b[0m\u001b[0;34m\u001b[0m\u001b[0;34m\u001b[0m\u001b[0m\n\u001b[1;32m      4\u001b[0m \u001b[0mrf_model\u001b[0m\u001b[0;34m.\u001b[0m\u001b[0mfit\u001b[0m\u001b[0;34m(\u001b[0m\u001b[0mxv_train\u001b[0m\u001b[0;34m,\u001b[0m\u001b[0my_train\u001b[0m\u001b[0;34m)\u001b[0m\u001b[0;34m\u001b[0m\u001b[0;34m\u001b[0m\u001b[0m\n\u001b[1;32m      5\u001b[0m \u001b[0;34m\u001b[0m\u001b[0m\n",
            "\u001b[0;32m/usr/local/lib/python3.12/dist-packages/sklearn/__init__.py\u001b[0m in \u001b[0;36m<module>\u001b[0;34m\u001b[0m\n\u001b[1;32m     71\u001b[0m     \u001b[0m_distributor_init\u001b[0m\u001b[0;34m,\u001b[0m\u001b[0;34m\u001b[0m\u001b[0;34m\u001b[0m\u001b[0m\n\u001b[1;32m     72\u001b[0m )\n\u001b[0;32m---> 73\u001b[0;31m \u001b[0;32mfrom\u001b[0m \u001b[0;34m.\u001b[0m\u001b[0mbase\u001b[0m \u001b[0;32mimport\u001b[0m \u001b[0mclone\u001b[0m  \u001b[0;31m# noqa: E402\u001b[0m\u001b[0;34m\u001b[0m\u001b[0;34m\u001b[0m\u001b[0m\n\u001b[0m\u001b[1;32m     74\u001b[0m \u001b[0;32mfrom\u001b[0m \u001b[0;34m.\u001b[0m\u001b[0mutils\u001b[0m\u001b[0;34m.\u001b[0m\u001b[0m_show_versions\u001b[0m \u001b[0;32mimport\u001b[0m \u001b[0mshow_versions\u001b[0m  \u001b[0;31m# noqa: E402\u001b[0m\u001b[0;34m\u001b[0m\u001b[0;34m\u001b[0m\u001b[0m\n\u001b[1;32m     75\u001b[0m \u001b[0;34m\u001b[0m\u001b[0m\n",
            "\u001b[0;32m/usr/local/lib/python3.12/dist-packages/sklearn/base.py\u001b[0m in \u001b[0;36m<module>\u001b[0;34m\u001b[0m\n\u001b[1;32m     17\u001b[0m \u001b[0;32mfrom\u001b[0m \u001b[0;34m.\u001b[0m\u001b[0m_config\u001b[0m \u001b[0;32mimport\u001b[0m \u001b[0mconfig_context\u001b[0m\u001b[0;34m,\u001b[0m \u001b[0mget_config\u001b[0m\u001b[0;34m\u001b[0m\u001b[0;34m\u001b[0m\u001b[0m\n\u001b[1;32m     18\u001b[0m \u001b[0;32mfrom\u001b[0m \u001b[0;34m.\u001b[0m\u001b[0mexceptions\u001b[0m \u001b[0;32mimport\u001b[0m \u001b[0mInconsistentVersionWarning\u001b[0m\u001b[0;34m\u001b[0m\u001b[0;34m\u001b[0m\u001b[0m\n\u001b[0;32m---> 19\u001b[0;31m \u001b[0;32mfrom\u001b[0m \u001b[0;34m.\u001b[0m\u001b[0mutils\u001b[0m\u001b[0;34m.\u001b[0m\u001b[0m_estimator_html_repr\u001b[0m \u001b[0;32mimport\u001b[0m \u001b[0m_HTMLDocumentationLinkMixin\u001b[0m\u001b[0;34m,\u001b[0m \u001b[0mestimator_html_repr\u001b[0m\u001b[0;34m\u001b[0m\u001b[0;34m\u001b[0m\u001b[0m\n\u001b[0m\u001b[1;32m     20\u001b[0m \u001b[0;32mfrom\u001b[0m \u001b[0;34m.\u001b[0m\u001b[0mutils\u001b[0m\u001b[0;34m.\u001b[0m\u001b[0m_metadata_requests\u001b[0m \u001b[0;32mimport\u001b[0m \u001b[0m_MetadataRequester\u001b[0m\u001b[0;34m,\u001b[0m \u001b[0m_routing_enabled\u001b[0m\u001b[0;34m\u001b[0m\u001b[0;34m\u001b[0m\u001b[0m\n\u001b[1;32m     21\u001b[0m \u001b[0;32mfrom\u001b[0m \u001b[0;34m.\u001b[0m\u001b[0mutils\u001b[0m\u001b[0;34m.\u001b[0m\u001b[0m_param_validation\u001b[0m \u001b[0;32mimport\u001b[0m \u001b[0mvalidate_parameter_constraints\u001b[0m\u001b[0;34m\u001b[0m\u001b[0;34m\u001b[0m\u001b[0m\n",
            "\u001b[0;32m/usr/local/lib/python3.12/dist-packages/sklearn/utils/__init__.py\u001b[0m in \u001b[0;36m<module>\u001b[0;34m\u001b[0m\n\u001b[1;32m     13\u001b[0m \u001b[0;32mfrom\u001b[0m \u001b[0;34m.\u001b[0m \u001b[0;32mimport\u001b[0m \u001b[0m_joblib\u001b[0m\u001b[0;34m,\u001b[0m \u001b[0mmetadata_routing\u001b[0m\u001b[0;34m\u001b[0m\u001b[0;34m\u001b[0m\u001b[0m\n\u001b[1;32m     14\u001b[0m \u001b[0;32mfrom\u001b[0m \u001b[0;34m.\u001b[0m\u001b[0m_bunch\u001b[0m \u001b[0;32mimport\u001b[0m \u001b[0mBunch\u001b[0m\u001b[0;34m\u001b[0m\u001b[0;34m\u001b[0m\u001b[0m\n\u001b[0;32m---> 15\u001b[0;31m \u001b[0;32mfrom\u001b[0m \u001b[0;34m.\u001b[0m\u001b[0m_chunking\u001b[0m \u001b[0;32mimport\u001b[0m \u001b[0mgen_batches\u001b[0m\u001b[0;34m,\u001b[0m \u001b[0mgen_even_slices\u001b[0m\u001b[0;34m\u001b[0m\u001b[0;34m\u001b[0m\u001b[0m\n\u001b[0m\u001b[1;32m     16\u001b[0m \u001b[0;32mfrom\u001b[0m \u001b[0;34m.\u001b[0m\u001b[0m_estimator_html_repr\u001b[0m \u001b[0;32mimport\u001b[0m \u001b[0mestimator_html_repr\u001b[0m\u001b[0;34m\u001b[0m\u001b[0;34m\u001b[0m\u001b[0m\n\u001b[1;32m     17\u001b[0m \u001b[0;34m\u001b[0m\u001b[0m\n",
            "\u001b[0;32m/usr/local/lib/python3.12/dist-packages/sklearn/utils/_chunking.py\u001b[0m in \u001b[0;36m<module>\u001b[0;34m\u001b[0m\n\u001b[1;32m      9\u001b[0m \u001b[0;34m\u001b[0m\u001b[0m\n\u001b[1;32m     10\u001b[0m \u001b[0;32mfrom\u001b[0m \u001b[0;34m.\u001b[0m\u001b[0;34m.\u001b[0m\u001b[0m_config\u001b[0m \u001b[0;32mimport\u001b[0m \u001b[0mget_config\u001b[0m\u001b[0;34m\u001b[0m\u001b[0;34m\u001b[0m\u001b[0m\n\u001b[0;32m---> 11\u001b[0;31m \u001b[0;32mfrom\u001b[0m \u001b[0;34m.\u001b[0m\u001b[0m_param_validation\u001b[0m \u001b[0;32mimport\u001b[0m \u001b[0mInterval\u001b[0m\u001b[0;34m,\u001b[0m \u001b[0mvalidate_params\u001b[0m\u001b[0;34m\u001b[0m\u001b[0;34m\u001b[0m\u001b[0m\n\u001b[0m\u001b[1;32m     12\u001b[0m \u001b[0;34m\u001b[0m\u001b[0m\n\u001b[1;32m     13\u001b[0m \u001b[0;34m\u001b[0m\u001b[0m\n",
            "\u001b[0;32m/usr/local/lib/python3.12/dist-packages/sklearn/utils/_param_validation.py\u001b[0m in \u001b[0;36m<module>\u001b[0;34m\u001b[0m\n\u001b[1;32m     12\u001b[0m \u001b[0;34m\u001b[0m\u001b[0m\n\u001b[1;32m     13\u001b[0m \u001b[0;32mimport\u001b[0m \u001b[0mnumpy\u001b[0m \u001b[0;32mas\u001b[0m \u001b[0mnp\u001b[0m\u001b[0;34m\u001b[0m\u001b[0;34m\u001b[0m\u001b[0m\n\u001b[0;32m---> 14\u001b[0;31m \u001b[0;32mfrom\u001b[0m \u001b[0mscipy\u001b[0m\u001b[0;34m.\u001b[0m\u001b[0msparse\u001b[0m \u001b[0;32mimport\u001b[0m \u001b[0mcsr_matrix\u001b[0m\u001b[0;34m,\u001b[0m \u001b[0missparse\u001b[0m\u001b[0;34m\u001b[0m\u001b[0;34m\u001b[0m\u001b[0m\n\u001b[0m\u001b[1;32m     15\u001b[0m \u001b[0;34m\u001b[0m\u001b[0m\n\u001b[1;32m     16\u001b[0m \u001b[0;32mfrom\u001b[0m \u001b[0;34m.\u001b[0m\u001b[0;34m.\u001b[0m\u001b[0m_config\u001b[0m \u001b[0;32mimport\u001b[0m \u001b[0mconfig_context\u001b[0m\u001b[0;34m,\u001b[0m \u001b[0mget_config\u001b[0m\u001b[0;34m\u001b[0m\u001b[0;34m\u001b[0m\u001b[0m\n",
            "\u001b[0;32m/usr/local/lib/python3.12/dist-packages/scipy/sparse/__init__.py\u001b[0m in \u001b[0;36m<module>\u001b[0;34m\u001b[0m\n\u001b[1;32m    292\u001b[0m \u001b[0;32mimport\u001b[0m \u001b[0mwarnings\u001b[0m \u001b[0;32mas\u001b[0m \u001b[0m_warnings\u001b[0m\u001b[0;34m\u001b[0m\u001b[0;34m\u001b[0m\u001b[0m\n\u001b[1;32m    293\u001b[0m \u001b[0;34m\u001b[0m\u001b[0m\n\u001b[0;32m--> 294\u001b[0;31m \u001b[0;32mfrom\u001b[0m \u001b[0;34m.\u001b[0m\u001b[0m_base\u001b[0m \u001b[0;32mimport\u001b[0m \u001b[0;34m*\u001b[0m\u001b[0;34m\u001b[0m\u001b[0;34m\u001b[0m\u001b[0m\n\u001b[0m\u001b[1;32m    295\u001b[0m \u001b[0;32mfrom\u001b[0m \u001b[0;34m.\u001b[0m\u001b[0m_csr\u001b[0m \u001b[0;32mimport\u001b[0m \u001b[0;34m*\u001b[0m\u001b[0;34m\u001b[0m\u001b[0;34m\u001b[0m\u001b[0m\n\u001b[1;32m    296\u001b[0m \u001b[0;32mfrom\u001b[0m \u001b[0;34m.\u001b[0m\u001b[0m_csc\u001b[0m \u001b[0;32mimport\u001b[0m \u001b[0;34m*\u001b[0m\u001b[0;34m\u001b[0m\u001b[0;34m\u001b[0m\u001b[0m\n",
            "\u001b[0;32m/usr/local/lib/python3.12/dist-packages/scipy/sparse/_base.py\u001b[0m in \u001b[0;36m<module>\u001b[0;34m\u001b[0m\n\u001b[1;32m      3\u001b[0m \u001b[0;34m\u001b[0m\u001b[0m\n\u001b[1;32m      4\u001b[0m \u001b[0;32mimport\u001b[0m \u001b[0mnumpy\u001b[0m \u001b[0;32mas\u001b[0m \u001b[0mnp\u001b[0m\u001b[0;34m\u001b[0m\u001b[0;34m\u001b[0m\u001b[0m\n\u001b[0;32m----> 5\u001b[0;31m \u001b[0;32mfrom\u001b[0m \u001b[0mscipy\u001b[0m\u001b[0;34m.\u001b[0m\u001b[0m_lib\u001b[0m\u001b[0;34m.\u001b[0m\u001b[0m_util\u001b[0m \u001b[0;32mimport\u001b[0m \u001b[0mVisibleDeprecationWarning\u001b[0m\u001b[0;34m\u001b[0m\u001b[0;34m\u001b[0m\u001b[0m\n\u001b[0m\u001b[1;32m      6\u001b[0m \u001b[0;34m\u001b[0m\u001b[0m\n\u001b[1;32m      7\u001b[0m from ._sputils import (asmatrix, check_reshape_kwargs, check_shape,\n",
            "\u001b[0;32m/usr/local/lib/python3.12/dist-packages/scipy/_lib/_util.py\u001b[0m in \u001b[0;36m<module>\u001b[0;34m\u001b[0m\n\u001b[1;32m     16\u001b[0m \u001b[0;34m\u001b[0m\u001b[0m\n\u001b[1;32m     17\u001b[0m \u001b[0;32mimport\u001b[0m \u001b[0mnumpy\u001b[0m \u001b[0;32mas\u001b[0m \u001b[0mnp\u001b[0m\u001b[0;34m\u001b[0m\u001b[0;34m\u001b[0m\u001b[0m\n\u001b[0;32m---> 18\u001b[0;31m \u001b[0;32mfrom\u001b[0m \u001b[0mscipy\u001b[0m\u001b[0;34m.\u001b[0m\u001b[0m_lib\u001b[0m\u001b[0;34m.\u001b[0m\u001b[0m_array_api\u001b[0m \u001b[0;32mimport\u001b[0m \u001b[0marray_namespace\u001b[0m\u001b[0;34m\u001b[0m\u001b[0;34m\u001b[0m\u001b[0m\n\u001b[0m\u001b[1;32m     19\u001b[0m \u001b[0;34m\u001b[0m\u001b[0m\n\u001b[1;32m     20\u001b[0m \u001b[0;34m\u001b[0m\u001b[0m\n",
            "\u001b[0;32m/usr/local/lib/python3.12/dist-packages/scipy/_lib/_array_api.py\u001b[0m in \u001b[0;36m<module>\u001b[0;34m\u001b[0m\n\u001b[1;32m     15\u001b[0m \u001b[0;34m\u001b[0m\u001b[0m\n\u001b[1;32m     16\u001b[0m \u001b[0;32mfrom\u001b[0m \u001b[0mscipy\u001b[0m\u001b[0;34m.\u001b[0m\u001b[0m_lib\u001b[0m \u001b[0;32mimport\u001b[0m \u001b[0marray_api_compat\u001b[0m\u001b[0;34m\u001b[0m\u001b[0;34m\u001b[0m\u001b[0m\n\u001b[0;32m---> 17\u001b[0;31m from scipy._lib.array_api_compat import (\n\u001b[0m\u001b[1;32m     18\u001b[0m     \u001b[0mis_array_api_obj\u001b[0m\u001b[0;34m,\u001b[0m\u001b[0;34m\u001b[0m\u001b[0;34m\u001b[0m\u001b[0m\n\u001b[1;32m     19\u001b[0m     \u001b[0msize\u001b[0m\u001b[0;34m,\u001b[0m\u001b[0;34m\u001b[0m\u001b[0;34m\u001b[0m\u001b[0m\n",
            "\u001b[0;32m/usr/local/lib/python3.12/dist-packages/scipy/_lib/array_api_compat/numpy/__init__.py\u001b[0m in \u001b[0;36m<module>\u001b[0;34m\u001b[0m\n\u001b[0;32m----> 1\u001b[0;31m \u001b[0;32mfrom\u001b[0m \u001b[0mnumpy\u001b[0m \u001b[0;32mimport\u001b[0m \u001b[0;34m*\u001b[0m\u001b[0;34m\u001b[0m\u001b[0;34m\u001b[0m\u001b[0m\n\u001b[0m\u001b[1;32m      2\u001b[0m \u001b[0;34m\u001b[0m\u001b[0m\n\u001b[1;32m      3\u001b[0m \u001b[0;31m# from numpy import * doesn't overwrite these builtin names\u001b[0m\u001b[0;34m\u001b[0m\u001b[0;34m\u001b[0m\u001b[0m\n\u001b[1;32m      4\u001b[0m \u001b[0;32mfrom\u001b[0m \u001b[0mnumpy\u001b[0m \u001b[0;32mimport\u001b[0m \u001b[0mabs\u001b[0m\u001b[0;34m,\u001b[0m \u001b[0mmax\u001b[0m\u001b[0;34m,\u001b[0m \u001b[0mmin\u001b[0m\u001b[0;34m,\u001b[0m \u001b[0mround\u001b[0m\u001b[0;34m\u001b[0m\u001b[0;34m\u001b[0m\u001b[0m\n\u001b[1;32m      5\u001b[0m \u001b[0;34m\u001b[0m\u001b[0m\n",
            "\u001b[0;32m/usr/local/lib/python3.12/dist-packages/numpy/__init__.py\u001b[0m in \u001b[0;36m__getattr__\u001b[0;34m(attr)\u001b[0m\n\u001b[1;32m    362\u001b[0m         \u001b[0;32mtry\u001b[0m\u001b[0;34m:\u001b[0m\u001b[0;34m\u001b[0m\u001b[0;34m\u001b[0m\u001b[0m\n\u001b[1;32m    363\u001b[0m             \u001b[0mx\u001b[0m \u001b[0;34m=\u001b[0m \u001b[0mones\u001b[0m\u001b[0;34m(\u001b[0m\u001b[0;36m2\u001b[0m\u001b[0;34m,\u001b[0m \u001b[0mdtype\u001b[0m\u001b[0;34m=\u001b[0m\u001b[0mfloat32\u001b[0m\u001b[0;34m)\u001b[0m\u001b[0;34m\u001b[0m\u001b[0;34m\u001b[0m\u001b[0m\n\u001b[0;32m--> 364\u001b[0;31m             \u001b[0;32mif\u001b[0m \u001b[0;32mnot\u001b[0m \u001b[0mabs\u001b[0m\u001b[0;34m(\u001b[0m\u001b[0mx\u001b[0m\u001b[0;34m.\u001b[0m\u001b[0mdot\u001b[0m\u001b[0;34m(\u001b[0m\u001b[0mx\u001b[0m\u001b[0;34m)\u001b[0m \u001b[0;34m-\u001b[0m \u001b[0mfloat32\u001b[0m\u001b[0;34m(\u001b[0m\u001b[0;36m2.0\u001b[0m\u001b[0;34m)\u001b[0m\u001b[0;34m)\u001b[0m \u001b[0;34m<\u001b[0m \u001b[0;36m1e-5\u001b[0m\u001b[0;34m:\u001b[0m\u001b[0;34m\u001b[0m\u001b[0;34m\u001b[0m\u001b[0m\n\u001b[0m\u001b[1;32m    365\u001b[0m                 \u001b[0;32mraise\u001b[0m \u001b[0mAssertionError\u001b[0m\u001b[0;34m(\u001b[0m\u001b[0;34m)\u001b[0m\u001b[0;34m\u001b[0m\u001b[0;34m\u001b[0m\u001b[0m\n\u001b[1;32m    366\u001b[0m         \u001b[0;32mexcept\u001b[0m \u001b[0mAssertionError\u001b[0m\u001b[0;34m:\u001b[0m\u001b[0;34m\u001b[0m\u001b[0;34m\u001b[0m\u001b[0m\n",
            "\u001b[0;31mModuleNotFoundError\u001b[0m: No module named 'numpy.rec'",
            "",
            "\u001b[0;31m---------------------------------------------------------------------------\u001b[0;32m\nNOTE: If your import is failing due to a missing package, you can\nmanually install dependencies using either !pip or !apt.\n\nTo view examples of installing some common dependencies, click the\n\"Open Examples\" button below.\n\u001b[0;31m---------------------------------------------------------------------------\u001b[0m\n"
          ],
          "errorDetails": {
            "actions": [
              {
                "action": "open_url",
                "actionText": "Open Examples",
                "url": "/notebooks/snippets/importing_libraries.ipynb"
              }
            ]
          }
        }
      ]
    },
    {
      "cell_type": "markdown",
      "source": [
        "####**Accuracy Checking**"
      ],
      "metadata": {
        "id": "fdpRN0MzLJQv"
      }
    },
    {
      "cell_type": "markdown",
      "source": [
        "**Q8.** Find the accuracy, precison, recall, F1 Score of the model while using Random Forest Classsifier and visualize overall accuracy using confusion matrix."
      ],
      "metadata": {
        "id": "lyg4B7b3YX-1"
      }
    },
    {
      "cell_type": "code",
      "source": [
        "#Check Precision, Recall, F1 score of the Random Forest model\n",
        "print('Accuracy:', accuracy_score(y_test, y_pred))\n",
        "print('Precision:', precision_score(y_test, y_pred))\n",
        "print('Recall:', recall_score(y_test, y_pred))\n",
        "print('F1 score:', f1_score(y_test, y_pred))\n",
        "\n",
        "#check overall accuracy using confusion matrix\n",
        "cm= confusion_matrix(y_test,y_pred)\n",
        "cm_display = ConfusionMatrixDisplay(confusion_matrix = cm)\n",
        "cm_display.plot()\n",
        "plt.show()"
      ],
      "metadata": {
        "id": "-saxkm_FKe8X"
      },
      "execution_count": null,
      "outputs": []
    },
    {
      "cell_type": "markdown",
      "source": [
        "#**Save the Model using pickle**"
      ],
      "metadata": {
        "id": "L_2hK8LyR1Kj"
      }
    },
    {
      "cell_type": "code",
      "source": [
        "# save the logistic regression model as pickle file\n",
        "import pickle\n",
        "filename1 = '/content/drive/My Drive/IDEAS-TIH/Internship_2025/word2vec_logistic_model.pickle'\n",
        "pickle.dump(logistic_model, open(filename1, 'wb')) #word2vec model"
      ],
      "metadata": {
        "id": "pcmzkeaDGTfH"
      },
      "execution_count": null,
      "outputs": []
    },
    {
      "cell_type": "code",
      "source": [
        "# Load the pickle file and checkout model score\n",
        "loaded_model = pickle.load(open(filename1, 'rb'))\n",
        "result = loaded_model.score(xv_test, y_test)\n",
        "print(result)"
      ],
      "metadata": {
        "id": "Y4dOB8p4HMqP"
      },
      "execution_count": null,
      "outputs": []
    },
    {
      "cell_type": "markdown",
      "source": [
        "**Q9.** Save the trained Random Forest Model as pickle/svg file in your desired repository for further use."
      ],
      "metadata": {
        "id": "z5L4E0AxZGZN"
      }
    },
    {
      "cell_type": "code",
      "source": [
        "#Save the Random Forest model as a pickle file\n",
        "filename2 = '/content/drive/my Drive/IDEAS-TIH/Internship_2025/word2vec_random_forest_model.pickle'\n",
        "pickle.dump(rf_model, open(filename2, \"wb\"))"
      ],
      "metadata": {
        "id": "jscPGHAdSGMB"
      },
      "execution_count": null,
      "outputs": []
    },
    {
      "cell_type": "markdown",
      "source": [
        "**Q10.** Load that saved model in another Notebook. Use it on other dataset for fake news detection."
      ],
      "metadata": {
        "id": "AVG0xCw0ZyvF"
      }
    },
    {
      "cell_type": "code",
      "source": [
        "# To mount the Google Drive\n",
        "from google.colab import drive\n",
        "drive.mount('/content/drive')\n",
        "\n",
        "# Defines the wordopt function again for text processing on the new data\n",
        "def wordopt(text):\n",
        "  text = text.lower()\n",
        "  text= re.sub(r'https://\\S+|www\\.\\S+','',text) # removes https:// or www.com\n",
        "  text = re.sub(r'[^\\w]',' ', text) #removes special characters\n",
        "  text= re.sub(r'\\s+',' ',text) #removes multiple spaces\n",
        "  return text\n",
        "\n",
        "# import bbc_news data using url link in json format for training Word2Vec word embedding model\n",
        "news = pd.read_json('https://query.data.world/s/7c6p2lxb3wjibfsfbp4mwy7p7y4y2d?dws=00000')\n",
        "news_seg = news['content']\n",
        "print(\"Size of Word Dictonary for training Word2Vec: \",news_seg.shape[0])\n",
        "news_seg.head(2)\n",
        "\n",
        "# Define the vectorize function again to convert sentences to vectors\n",
        "def vectorize(sentence):\n",
        "    words = sentence.split()\n",
        "    if 'w2v_model' not in globals():\n",
        "        print(\"Word2Vec model not found. Please load or train the model.\")\n",
        "        return np.zeros(100) # Return a zero vector if model is not available\n",
        "\n",
        "    words_vecs = [w2v_model.wv[word] for word in words if word in w2v_model.wv]\n",
        "    if len(words_vecs) == 0:\n",
        "        return np.zeros(100)\n",
        "    words_vecs = np.array(words_vecs)\n",
        "    return words_vecs.mean(axis=0)\n",
        "\n",
        "filename2 = '/content/drive/My Drive/IDEAS-TIH/Internship_2025/word2vec_random_forest_model.pickle'\n",
        "loaded_rf_model = pickle.load(open(filename2, \"rb\"))\n",
        "\n",
        "new_fake_news_data = pd.read_csv('/content/drive/My Drive/IDEAS-TIH/Internship_2025/Fake.csv')\n",
        "\n",
        "# Apply the wordopt function to the new dataset\n",
        "new_fake_news_data['text'] = new_fake_news_data['text'].apply(wordopt)\n",
        "\n",
        "# Convert the text data in the new dataset to vector form using the same vectorize function\n",
        "xv_new_data = np.array([vectorize(sentence) for sentence in new_fake_news_data['text']])\n",
        "\n",
        "# Predict the class (fake or true) on the new data\n",
        "predictions = loaded_rf_model.predict(xv_new_data)\n",
        "\n",
        "# Add the predictions as a new column to your new dataset\n",
        "new_fake_news_data['predicted_class'] = predictions\n",
        "\n",
        "# Display the new dataset with predictions\n",
        "display(new_fake_news_data.head())\n",
        "\n",
        "print(\"Predicted class distribution on new data:\")\n",
        "print(new_fake_news_data['predicted_class'].value_counts())\n"
      ],
      "metadata": {
        "id": "2n52kHs3Ajdk"
      },
      "execution_count": null,
      "outputs": []
    },
    {
      "cell_type": "markdown",
      "source": [
        "**Q11(Optional).**\n",
        "\n",
        "\n",
        "1.  Try to enhance the model's accuracy by using adaboost or any other boosting methods.\n",
        "2.  Use TF-IDF or any other vectorizer instead of Word2Vec and study how much it affects on model's accuracy.\n",
        "\n",
        "\n",
        "\n",
        "\n"
      ],
      "metadata": {
        "id": "2MMFPqDjaffV"
      }
    },
    {
      "cell_type": "code",
      "source": [],
      "metadata": {
        "id": "39-EQqKccnJd"
      },
      "execution_count": null,
      "outputs": []
    }
  ]
}